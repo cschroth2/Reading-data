{
 "cells": [
  {
   "cell_type": "markdown",
   "metadata": {},
   "source": [
    "# WORKING WITH GPS DATA (shape files) IN THE DOMIAN OF AGRICULTURE\n",
    "\n",
    "Welcome to our tutorial about shapefiles. In this notebook you will learn:\n",
    "\n",
    "- how to read shapefiles (https://en.wikipedia.org/wiki/Shapefile ).\n",
    "\n",
    "Let's start by importing some libraries:"
   ]
  },
  {
   "cell_type": "code",
   "execution_count": 1,
   "metadata": {},
   "outputs": [],
   "source": [
    "# to download the files\n",
    "import zipfile\n",
    "import urllib\n",
    "# to read the files\n",
    "import geopandas as gpd\n",
    "import pandas as pd\n",
    "import json\n",
    "# to plot the results\n",
    "%matplotlib qt\n",
    "import matplotlib.pyplot as plt"
   ]
  },
  {
   "cell_type": "markdown",
   "metadata": {},
   "source": [
    "## 1) Download the data\n",
    "\n",
    "Now, let's download some example data provided in Github. For simplicity, we save the data in the current working directory:"
   ]
  },
  {
   "cell_type": "code",
   "execution_count": 2,
   "metadata": {},
   "outputs": [
    {
     "name": "stdout",
     "output_type": "stream",
     "text": [
      "download and unzip of data succesful\n"
     ]
    }
   ],
   "source": [
    "# download of the data\n",
    "urllib.request.urlretrieve(\"https://github.com/JohnDeere/SampleData/raw/master/Shapefiles/Export%20From%20MyJohnDeere%20-%20Harvest.zip\",\n",
    "                           \"Harvest.zip\")\n",
    "# unzip the data\n",
    "with zipfile.ZipFile(\"Harvest.zip\", 'r') as zip_ref:\n",
    "    zip_ref.extractall()\n",
    "print(\"download and unzip of data succesful\")"
   ]
  },
  {
   "cell_type": "markdown",
   "metadata": {},
   "source": [
    "The your working directory should now contain a folder named \"doc\". In this folder you now have five files that look like this:\n",
    "![Screenshot-Files](Screenshot-Files.png)\n",
    "\n",
    "Note, that the \\*.dbf and the \\*.json file can be opened with any text editor (like Notepad, Notepad++, Gedit, and so on). Sometimes it is convenient to open the \\*.json file by the editor to have a quick preview. Nevertheless, the other files cannot be read with a standard editor, that is why we need some code to read the shapefile."
   ]
  },
  {
   "cell_type": "markdown",
   "metadata": {},
   "source": [
    "## 2) Read and plot the data\n",
    "\n",
    "As the filename may indicate we have a recording of a soyabeans harvest. Now, let's read the data we have unzipped above:"
   ]
  },
  {
   "cell_type": "code",
   "execution_count": 3,
   "metadata": {},
   "outputs": [
    {
     "name": "stdout",
     "output_type": "stream",
     "text": [
      "reading data succesful\n"
     ]
    }
   ],
   "source": [
    "gdf = gpd.read_file(\"./doc/Merriweather Farms-JT-01-Soybeans.shp\")\n",
    "print(\"reading data succesful\")"
   ]
  },
  {
   "cell_type": "markdown",
   "metadata": {},
   "source": [
    "Let's simply plot the location of the very first point in our dataset to get a vague idea where the field can be found:"
   ]
  },
  {
   "cell_type": "code",
   "execution_count": 4,
   "metadata": {
    "scrolled": true
   },
   "outputs": [],
   "source": [
    "world = gpd.read_file(gpd.datasets.get_path('naturalearth_lowres'))\n",
    "world.boundary.plot();\n",
    "plt.plot(gdf.geometry.x[0],gdf.geometry.y[0],\"rx\");"
   ]
  },
  {
   "cell_type": "markdown",
   "metadata": {},
   "source": [
    "Looks like somewhere in the Mid-West Region of the USA.\n",
    "\n",
    "Let's create a first plot of the data of the soyabeans harvest of the field itself:"
   ]
  },
  {
   "cell_type": "code",
   "execution_count": 5,
   "metadata": {
    "scrolled": true
   },
   "outputs": [],
   "source": [
    "gdf.plot(column='WetMass', markersize=0.1, legend=True);"
   ]
  },
  {
   "cell_type": "markdown",
   "metadata": {},
   "source": [
    "Well, this plot does not help much. In the following we will investigate the data more detailed."
   ]
  },
  {
   "cell_type": "markdown",
   "metadata": {},
   "source": [
    "## 3) Check the data\n",
    "\n",
    "Let's print some information about the data:"
   ]
  },
  {
   "cell_type": "code",
   "execution_count": 6,
   "metadata": {},
   "outputs": [
    {
     "name": "stdout",
     "output_type": "stream",
     "text": [
      "length (number of row entries):\n",
      "40960\n",
      "A snaphot of the first entries:\n"
     ]
    },
    {
     "data": {
      "text/html": [
       "<div>\n",
       "<style scoped>\n",
       "    .dataframe tbody tr th:only-of-type {\n",
       "        vertical-align: middle;\n",
       "    }\n",
       "\n",
       "    .dataframe tbody tr th {\n",
       "        vertical-align: top;\n",
       "    }\n",
       "\n",
       "    .dataframe thead th {\n",
       "        text-align: right;\n",
       "    }\n",
       "</style>\n",
       "<table border=\"1\" class=\"dataframe\">\n",
       "  <thead>\n",
       "    <tr style=\"text-align: right;\">\n",
       "      <th></th>\n",
       "      <th>DISTANCE</th>\n",
       "      <th>SWATHWIDTH</th>\n",
       "      <th>VRYIELDVOL</th>\n",
       "      <th>SECTIONID</th>\n",
       "      <th>Crop</th>\n",
       "      <th>WetMass</th>\n",
       "      <th>Moisture</th>\n",
       "      <th>Time</th>\n",
       "      <th>Heading</th>\n",
       "      <th>VARIETY</th>\n",
       "      <th>Elevation</th>\n",
       "      <th>IsoTime</th>\n",
       "      <th>geometry</th>\n",
       "    </tr>\n",
       "  </thead>\n",
       "  <tbody>\n",
       "    <tr>\n",
       "      <th>0</th>\n",
       "      <td>0.034447</td>\n",
       "      <td>5.0</td>\n",
       "      <td>0.0</td>\n",
       "      <td>1260</td>\n",
       "      <td>174</td>\n",
       "      <td>0.0</td>\n",
       "      <td>4.56</td>\n",
       "      <td>9/19/2016 4:45:10 PM</td>\n",
       "      <td>286.148407</td>\n",
       "      <td>23A42</td>\n",
       "      <td>786.450003</td>\n",
       "      <td>2016-09-19T16:45:10.000Z</td>\n",
       "      <td>POINT Z (-93.15027 41.66636 0.00000)</td>\n",
       "    </tr>\n",
       "    <tr>\n",
       "      <th>1</th>\n",
       "      <td>0.034447</td>\n",
       "      <td>5.0</td>\n",
       "      <td>0.0</td>\n",
       "      <td>1261</td>\n",
       "      <td>174</td>\n",
       "      <td>0.0</td>\n",
       "      <td>4.56</td>\n",
       "      <td>9/19/2016 4:45:10 PM</td>\n",
       "      <td>286.148407</td>\n",
       "      <td>23A42</td>\n",
       "      <td>786.450003</td>\n",
       "      <td>2016-09-19T16:45:10.000Z</td>\n",
       "      <td>POINT Z (-93.15026 41.66637 0.00000)</td>\n",
       "    </tr>\n",
       "    <tr>\n",
       "      <th>2</th>\n",
       "      <td>0.034447</td>\n",
       "      <td>5.0</td>\n",
       "      <td>0.0</td>\n",
       "      <td>1262</td>\n",
       "      <td>174</td>\n",
       "      <td>0.0</td>\n",
       "      <td>4.56</td>\n",
       "      <td>9/19/2016 4:45:10 PM</td>\n",
       "      <td>286.148407</td>\n",
       "      <td>23A42</td>\n",
       "      <td>786.450003</td>\n",
       "      <td>2016-09-19T16:45:10.000Z</td>\n",
       "      <td>POINT Z (-93.15026 41.66639 0.00000)</td>\n",
       "    </tr>\n",
       "    <tr>\n",
       "      <th>3</th>\n",
       "      <td>0.034447</td>\n",
       "      <td>5.0</td>\n",
       "      <td>0.0</td>\n",
       "      <td>1263</td>\n",
       "      <td>174</td>\n",
       "      <td>0.0</td>\n",
       "      <td>4.56</td>\n",
       "      <td>9/19/2016 4:45:10 PM</td>\n",
       "      <td>286.148407</td>\n",
       "      <td>23A42</td>\n",
       "      <td>786.450003</td>\n",
       "      <td>2016-09-19T16:45:10.000Z</td>\n",
       "      <td>POINT Z (-93.15025 41.66640 0.00000)</td>\n",
       "    </tr>\n",
       "    <tr>\n",
       "      <th>4</th>\n",
       "      <td>0.034447</td>\n",
       "      <td>5.0</td>\n",
       "      <td>0.0</td>\n",
       "      <td>1264</td>\n",
       "      <td>174</td>\n",
       "      <td>0.0</td>\n",
       "      <td>4.56</td>\n",
       "      <td>9/19/2016 4:45:10 PM</td>\n",
       "      <td>286.148407</td>\n",
       "      <td>23A42</td>\n",
       "      <td>786.450003</td>\n",
       "      <td>2016-09-19T16:45:10.000Z</td>\n",
       "      <td>POINT Z (-93.15025 41.66641 0.00000)</td>\n",
       "    </tr>\n",
       "  </tbody>\n",
       "</table>\n",
       "</div>"
      ],
      "text/plain": [
       "   DISTANCE  SWATHWIDTH  VRYIELDVOL  SECTIONID  Crop  WetMass  Moisture  \\\n",
       "0  0.034447         5.0         0.0       1260   174      0.0      4.56   \n",
       "1  0.034447         5.0         0.0       1261   174      0.0      4.56   \n",
       "2  0.034447         5.0         0.0       1262   174      0.0      4.56   \n",
       "3  0.034447         5.0         0.0       1263   174      0.0      4.56   \n",
       "4  0.034447         5.0         0.0       1264   174      0.0      4.56   \n",
       "\n",
       "                   Time     Heading VARIETY   Elevation  \\\n",
       "0  9/19/2016 4:45:10 PM  286.148407   23A42  786.450003   \n",
       "1  9/19/2016 4:45:10 PM  286.148407   23A42  786.450003   \n",
       "2  9/19/2016 4:45:10 PM  286.148407   23A42  786.450003   \n",
       "3  9/19/2016 4:45:10 PM  286.148407   23A42  786.450003   \n",
       "4  9/19/2016 4:45:10 PM  286.148407   23A42  786.450003   \n",
       "\n",
       "                    IsoTime                              geometry  \n",
       "0  2016-09-19T16:45:10.000Z  POINT Z (-93.15027 41.66636 0.00000)  \n",
       "1  2016-09-19T16:45:10.000Z  POINT Z (-93.15026 41.66637 0.00000)  \n",
       "2  2016-09-19T16:45:10.000Z  POINT Z (-93.15026 41.66639 0.00000)  \n",
       "3  2016-09-19T16:45:10.000Z  POINT Z (-93.15025 41.66640 0.00000)  \n",
       "4  2016-09-19T16:45:10.000Z  POINT Z (-93.15025 41.66641 0.00000)  "
      ]
     },
     "execution_count": 6,
     "metadata": {},
     "output_type": "execute_result"
    }
   ],
   "source": [
    "print(\"length (number of row entries):\")\n",
    "print(len(gdf))\n",
    "print(\"A snaphot of the first entries:\")\n",
    "gdf.head()"
   ]
  },
  {
   "cell_type": "markdown",
   "metadata": {},
   "source": [
    "Get the data types:"
   ]
  },
  {
   "cell_type": "code",
   "execution_count": 7,
   "metadata": {
    "scrolled": true
   },
   "outputs": [
    {
     "name": "stdout",
     "output_type": "stream",
     "text": [
      "<class 'geopandas.geodataframe.GeoDataFrame'>\n",
      "RangeIndex: 40960 entries, 0 to 40959\n",
      "Data columns (total 13 columns):\n",
      "DISTANCE      40960 non-null float64\n",
      "SWATHWIDTH    40960 non-null float64\n",
      "VRYIELDVOL    40960 non-null float64\n",
      "SECTIONID     40960 non-null int64\n",
      "Crop          40960 non-null int64\n",
      "WetMass       40960 non-null float64\n",
      "Moisture      40960 non-null float64\n",
      "Time          40960 non-null object\n",
      "Heading       40960 non-null float64\n",
      "VARIETY       40960 non-null object\n",
      "Elevation     40960 non-null float64\n",
      "IsoTime       40960 non-null object\n",
      "geometry      40960 non-null geometry\n",
      "dtypes: float64(7), geometry(1), int64(2), object(3)\n",
      "memory usage: 4.1+ MB\n"
     ]
    }
   ],
   "source": [
    "gdf.info()"
   ]
  },
  {
   "cell_type": "markdown",
   "metadata": {},
   "source": [
    "Some statistics:"
   ]
  },
  {
   "cell_type": "code",
   "execution_count": 8,
   "metadata": {},
   "outputs": [
    {
     "data": {
      "text/html": [
       "<div>\n",
       "<style scoped>\n",
       "    .dataframe tbody tr th:only-of-type {\n",
       "        vertical-align: middle;\n",
       "    }\n",
       "\n",
       "    .dataframe tbody tr th {\n",
       "        vertical-align: top;\n",
       "    }\n",
       "\n",
       "    .dataframe thead th {\n",
       "        text-align: right;\n",
       "    }\n",
       "</style>\n",
       "<table border=\"1\" class=\"dataframe\">\n",
       "  <thead>\n",
       "    <tr style=\"text-align: right;\">\n",
       "      <th></th>\n",
       "      <th>DISTANCE</th>\n",
       "      <th>SWATHWIDTH</th>\n",
       "      <th>VRYIELDVOL</th>\n",
       "      <th>SECTIONID</th>\n",
       "      <th>Crop</th>\n",
       "      <th>WetMass</th>\n",
       "      <th>Moisture</th>\n",
       "      <th>Heading</th>\n",
       "      <th>Elevation</th>\n",
       "    </tr>\n",
       "  </thead>\n",
       "  <tbody>\n",
       "    <tr>\n",
       "      <th>count</th>\n",
       "      <td>40960.000000</td>\n",
       "      <td>40960.0</td>\n",
       "      <td>40960.000000</td>\n",
       "      <td>40960.000000</td>\n",
       "      <td>40960.0</td>\n",
       "      <td>40960.000000</td>\n",
       "      <td>40960.000000</td>\n",
       "      <td>40960.000000</td>\n",
       "      <td>40960.000000</td>\n",
       "    </tr>\n",
       "    <tr>\n",
       "      <th>mean</th>\n",
       "      <td>5.356099</td>\n",
       "      <td>5.0</td>\n",
       "      <td>78.050355</td>\n",
       "      <td>1262.496753</td>\n",
       "      <td>174.0</td>\n",
       "      <td>4698.983787</td>\n",
       "      <td>12.833751</td>\n",
       "      <td>187.950544</td>\n",
       "      <td>784.168197</td>\n",
       "    </tr>\n",
       "    <tr>\n",
       "      <th>std</th>\n",
       "      <td>0.914692</td>\n",
       "      <td>0.0</td>\n",
       "      <td>43.924025</td>\n",
       "      <td>1.703171</td>\n",
       "      <td>0.0</td>\n",
       "      <td>2647.980881</td>\n",
       "      <td>1.177402</td>\n",
       "      <td>100.498766</td>\n",
       "      <td>1.239706</td>\n",
       "    </tr>\n",
       "    <tr>\n",
       "      <th>min</th>\n",
       "      <td>0.034447</td>\n",
       "      <td>5.0</td>\n",
       "      <td>0.000000</td>\n",
       "      <td>1260.000000</td>\n",
       "      <td>174.0</td>\n",
       "      <td>0.000000</td>\n",
       "      <td>0.000000</td>\n",
       "      <td>0.005000</td>\n",
       "      <td>779.629137</td>\n",
       "    </tr>\n",
       "    <tr>\n",
       "      <th>25%</th>\n",
       "      <td>5.025353</td>\n",
       "      <td>5.0</td>\n",
       "      <td>72.372119</td>\n",
       "      <td>1261.000000</td>\n",
       "      <td>174.0</td>\n",
       "      <td>4359.846020</td>\n",
       "      <td>12.240000</td>\n",
       "      <td>75.226874</td>\n",
       "      <td>783.539321</td>\n",
       "    </tr>\n",
       "    <tr>\n",
       "      <th>50%</th>\n",
       "      <td>5.546258</td>\n",
       "      <td>5.0</td>\n",
       "      <td>79.598112</td>\n",
       "      <td>1262.000000</td>\n",
       "      <td>174.0</td>\n",
       "      <td>4788.663987</td>\n",
       "      <td>12.870000</td>\n",
       "      <td>196.745282</td>\n",
       "      <td>784.368925</td>\n",
       "    </tr>\n",
       "    <tr>\n",
       "      <th>75%</th>\n",
       "      <td>5.924525</td>\n",
       "      <td>5.0</td>\n",
       "      <td>84.991287</td>\n",
       "      <td>1264.000000</td>\n",
       "      <td>174.0</td>\n",
       "      <td>5113.463083</td>\n",
       "      <td>13.610000</td>\n",
       "      <td>255.426532</td>\n",
       "      <td>784.959925</td>\n",
       "    </tr>\n",
       "    <tr>\n",
       "      <th>max</th>\n",
       "      <td>12.501638</td>\n",
       "      <td>5.0</td>\n",
       "      <td>1666.394384</td>\n",
       "      <td>1265.000000</td>\n",
       "      <td>174.0</td>\n",
       "      <td>100000.000000</td>\n",
       "      <td>15.950000</td>\n",
       "      <td>359.945282</td>\n",
       "      <td>787.064558</td>\n",
       "    </tr>\n",
       "  </tbody>\n",
       "</table>\n",
       "</div>"
      ],
      "text/plain": [
       "           DISTANCE  SWATHWIDTH    VRYIELDVOL     SECTIONID     Crop  \\\n",
       "count  40960.000000     40960.0  40960.000000  40960.000000  40960.0   \n",
       "mean       5.356099         5.0     78.050355   1262.496753    174.0   \n",
       "std        0.914692         0.0     43.924025      1.703171      0.0   \n",
       "min        0.034447         5.0      0.000000   1260.000000    174.0   \n",
       "25%        5.025353         5.0     72.372119   1261.000000    174.0   \n",
       "50%        5.546258         5.0     79.598112   1262.000000    174.0   \n",
       "75%        5.924525         5.0     84.991287   1264.000000    174.0   \n",
       "max       12.501638         5.0   1666.394384   1265.000000    174.0   \n",
       "\n",
       "             WetMass      Moisture       Heading     Elevation  \n",
       "count   40960.000000  40960.000000  40960.000000  40960.000000  \n",
       "mean     4698.983787     12.833751    187.950544    784.168197  \n",
       "std      2647.980881      1.177402    100.498766      1.239706  \n",
       "min         0.000000      0.000000      0.005000    779.629137  \n",
       "25%      4359.846020     12.240000     75.226874    783.539321  \n",
       "50%      4788.663987     12.870000    196.745282    784.368925  \n",
       "75%      5113.463083     13.610000    255.426532    784.959925  \n",
       "max    100000.000000     15.950000    359.945282    787.064558  "
      ]
     },
     "execution_count": 8,
     "metadata": {},
     "output_type": "execute_result"
    }
   ],
   "source": [
    "gdf.describe()"
   ]
  },
  {
   "cell_type": "markdown",
   "metadata": {},
   "source": [
    "That looks all good. The record wa done somewhen in September 2016 and the *geometry* column tells us exactly the position of the application. \n",
    "\n",
    "There is a lot of technical details in the table which we won't need at all. But in the following, most important for us will be the column *WetMass*. The interested reader may be referred to https://developer-portal.deere.com/#/myJohnDeereAPI/%2Fdocumentation%2Fmyjohndeere%2FshapefilesOverview.htm for more details about the contence of the other columns.\n",
    "\n",
    "Note, we do not know yet if the *WetMass* was recorded recorded as volume (e.g. litres or galones) or as a mass (e.g. kilogram, tons or pounds). This information can be found in the \\*.json file which contains the metadata (metadata means information about the data). \n",
    "\n",
    "Let's read the metadata from the \\*.json file to see if there is information about the units used for the *WetMass*:"
   ]
  },
  {
   "cell_type": "code",
   "execution_count": 9,
   "metadata": {},
   "outputs": [
    {
     "name": "stdout",
     "output_type": "stream",
     "text": [
      "{'Version': '1.0', 'OrgId': 223031, 'ClientId': '46234f43-0000-1000-4014-e1e1e11124e0', 'ClientName': 'Merriweather Farms', 'FarmId': '4641d448-0000-1000-4033-e1e1e11124e0', 'FarmName': 'JT', 'FieldId': 'e61b83f4-3a12-431e-8010-596f2466dc27', 'FieldName': '01', 'Operation': 'Harvest', 'CropSeason': 2016, 'CropToken': 'SOYBEANS', 'FileCreatedTimeStamp': '2018-04-25T21:08:48.9432Z', 'DataAttributes': [{'Name': 'DISTANCE', 'Unit': 'ft', 'Description': 'Distance Travelled From Previous Point'}, {'Name': 'SWATHWIDTH', 'Unit': 'ft', 'Description': 'Width Of Element'}, {'Name': 'VRYIELDVOL', 'Unit': 'bu1ac-1', 'Description': 'Yield as Volume'}, {'Name': 'SECTIONID', 'Description': 'Element Id'}, {'Name': 'Crop', 'Description': 'CropId'}, {'Name': 'Moisture', 'Unit': 'prcnt', 'Description': 'Moisture'}, {'Name': 'WetMass', 'Unit': 'lb1ac-1', 'Description': 'Wet Mass'}, {'Name': 'Time', 'Description': 'Timestamp'}, {'Name': 'Heading', 'Description': 'Machine Heading'}, {'Name': 'VARIETY', 'Description': 'Variety Name'}, {'Name': 'Elevation', 'Unit': 'ft', 'Description': 'Elevation'}, {'Name': 'IsoTime', 'Description': 'Precise Timestamp'}]}\n"
     ]
    }
   ],
   "source": [
    "with open(\"./doc/Merriweather Farms-JT-01-Soybeans-Deere-Metadata.json\", 'r') as f:\n",
    "    metadata = json.load(f)\n",
    "print(metadata)"
   ]
  },
  {
   "cell_type": "markdown",
   "metadata": {},
   "source": [
    "Of course, this looks confusing. Have you found it?\n",
    "\n",
    "Nicer way:"
   ]
  },
  {
   "cell_type": "code",
   "execution_count": 10,
   "metadata": {},
   "outputs": [
    {
     "name": "stdout",
     "output_type": "stream",
     "text": [
      "{\n",
      "    \"Version\": \"1.0\",\n",
      "    \"OrgId\": 223031,\n",
      "    \"ClientId\": \"46234f43-0000-1000-4014-e1e1e11124e0\",\n",
      "    \"ClientName\": \"Merriweather Farms\",\n",
      "    \"FarmId\": \"4641d448-0000-1000-4033-e1e1e11124e0\",\n",
      "    \"FarmName\": \"JT\",\n",
      "    \"FieldId\": \"e61b83f4-3a12-431e-8010-596f2466dc27\",\n",
      "    \"FieldName\": \"01\",\n",
      "    \"Operation\": \"Harvest\",\n",
      "    \"CropSeason\": 2016,\n",
      "    \"CropToken\": \"SOYBEANS\",\n",
      "    \"FileCreatedTimeStamp\": \"2018-04-25T21:08:48.9432Z\",\n",
      "    \"DataAttributes\": [\n",
      "        {\n",
      "            \"Name\": \"DISTANCE\",\n",
      "            \"Unit\": \"ft\",\n",
      "            \"Description\": \"Distance Travelled From Previous Point\"\n",
      "        },\n",
      "        {\n",
      "            \"Name\": \"SWATHWIDTH\",\n",
      "            \"Unit\": \"ft\",\n",
      "            \"Description\": \"Width Of Element\"\n",
      "        },\n",
      "        {\n",
      "            \"Name\": \"VRYIELDVOL\",\n",
      "            \"Unit\": \"bu1ac-1\",\n",
      "            \"Description\": \"Yield as Volume\"\n",
      "        },\n",
      "        {\n",
      "            \"Name\": \"SECTIONID\",\n",
      "            \"Description\": \"Element Id\"\n",
      "        },\n",
      "        {\n",
      "            \"Name\": \"Crop\",\n",
      "            \"Description\": \"CropId\"\n",
      "        },\n",
      "        {\n",
      "            \"Name\": \"Moisture\",\n",
      "            \"Unit\": \"prcnt\",\n",
      "            \"Description\": \"Moisture\"\n",
      "        },\n",
      "        {\n",
      "            \"Name\": \"WetMass\",\n",
      "            \"Unit\": \"lb1ac-1\",\n",
      "            \"Description\": \"Wet Mass\"\n",
      "        },\n",
      "        {\n",
      "            \"Name\": \"Time\",\n",
      "            \"Description\": \"Timestamp\"\n",
      "        },\n",
      "        {\n",
      "            \"Name\": \"Heading\",\n",
      "            \"Description\": \"Machine Heading\"\n",
      "        },\n",
      "        {\n",
      "            \"Name\": \"VARIETY\",\n",
      "            \"Description\": \"Variety Name\"\n",
      "        },\n",
      "        {\n",
      "            \"Name\": \"Elevation\",\n",
      "            \"Unit\": \"ft\",\n",
      "            \"Description\": \"Elevation\"\n",
      "        },\n",
      "        {\n",
      "            \"Name\": \"IsoTime\",\n",
      "            \"Description\": \"Precise Timestamp\"\n",
      "        }\n",
      "    ]\n",
      "}\n"
     ]
    }
   ],
   "source": [
    "print(json.dumps(metadata, indent=4))"
   ]
  },
  {
   "cell_type": "markdown",
   "metadata": {},
   "source": [
    "You can extract the relevant information of the units like this:"
   ]
  },
  {
   "cell_type": "code",
   "execution_count": 11,
   "metadata": {},
   "outputs": [
    {
     "name": "stdout",
     "output_type": "stream",
     "text": [
      "Get the metadata of colum number 6 (WetMass):\n",
      "{'Name': 'WetMass', 'Unit': 'lb1ac-1', 'Description': 'Wet Mass'}\n",
      "Get the units of the corresponding column:\n",
      "lb1ac-1\n"
     ]
    }
   ],
   "source": [
    "print(\"Get the metadata of colum number 6 (WetMass):\")\n",
    "print(metadata['DataAttributes'][6])\n",
    "print(\"Get the units of the corresponding column:\")\n",
    "print(metadata['DataAttributes'][6]['Unit'])"
   ]
  },
  {
   "cell_type": "markdown",
   "metadata": {},
   "source": [
    "In this case we have pounds per acre, i.e. an average value of the *WetMass* for the area between two measurement points. \n",
    "\n",
    "Note, that in general the units may differ. For example, sometimes there are pounds and sometimes kilograms. Or sometimes acres and sometimes hectares. You never know unless you check the metadata.\n",
    "\n",
    "**Hence, it is always necessary to check the \\*.json file (or more generally speaking: the metadata) to do accurate calculations.**\n",
    "\n",
    "It is not too difficult to transform the values from one unit to another. "
   ]
  },
  {
   "cell_type": "markdown",
   "metadata": {},
   "source": [
    "## Some visualisations"
   ]
  },
  {
   "cell_type": "code",
   "execution_count": null,
   "metadata": {},
   "outputs": [],
   "source": [
    "gdf['WetMass'].plot()"
   ]
  },
  {
   "cell_type": "markdown",
   "metadata": {},
   "source": [
    "Set the time:"
   ]
  },
  {
   "cell_type": "code",
   "execution_count": null,
   "metadata": {},
   "outputs": [],
   "source": [
    "gdf['IsoTime'] = pd.to_datetime(gdf['IsoTime'])\n",
    "gdf = gdf.set_index(gdf['IsoTime'])"
   ]
  },
  {
   "cell_type": "markdown",
   "metadata": {},
   "source": [
    "Plot again:"
   ]
  },
  {
   "cell_type": "code",
   "execution_count": null,
   "metadata": {},
   "outputs": [],
   "source": [
    "gdf['WetMass'].plot()"
   ]
  },
  {
   "cell_type": "markdown",
   "metadata": {},
   "source": [
    "## Summary\n",
    "\n",
    "This introduction shows how to download data, extract zip-files and reading shapefiles.\n",
    "\n",
    "\n",
    "This can be seen as a starting point for calculations in the research field of agriculture. Examples would be calculation of harvest mass, optimization of fertilisers and so on.\n",
    "\n",
    "**Acknowledgements:** we thank John Deere for providing the data (https://github.com/JohnDeere/SampleData ).\n",
    "\n",
    "**Contact:** https://www.iese.fraunhofer.de/en/competencies/data.html"
   ]
  },
  {
   "cell_type": "code",
   "execution_count": null,
   "metadata": {},
   "outputs": [],
   "source": []
  }
 ],
 "metadata": {
  "kernelspec": {
   "display_name": "Python 3",
   "language": "python",
   "name": "python3"
  },
  "language_info": {
   "codemirror_mode": {
    "name": "ipython",
    "version": 3
   },
   "file_extension": ".py",
   "mimetype": "text/x-python",
   "name": "python",
   "nbconvert_exporter": "python",
   "pygments_lexer": "ipython3",
   "version": "3.7.3"
  }
 },
 "nbformat": 4,
 "nbformat_minor": 2
}
